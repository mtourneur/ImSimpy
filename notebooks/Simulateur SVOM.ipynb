{
 "cells": [
  {
   "cell_type": "markdown",
   "metadata": {},
   "source": [
    "\n",
    "\n",
    "\n",
    "\n",
    "# Simulateur SVOM"
   ]
  },
  {
   "cell_type": "markdown",
   "metadata": {},
   "source": [
    "Dans le cadre de la mission SVOM (Space Variable Objects Monitor) de détection de sursauts gamma plusieurs détecteurs, caméras et téléscopes ont été choisis pour des observations sur terre. Grâce à ce simulateur et ce tutoriel vous avez accès à des simulations de ce que peuvent nous donner ces différents instruments lors de phases de test (champ sombre, champ plat, ...) ou lors d'observations (données collectées grâce à différentes mesures faites sur les téléscopes)."
   ]
  },
  {
   "cell_type": "markdown",
   "metadata": {},
   "source": [
    "## Sommaire :\n",
    "1. Fonctionnement\n",
    "    1. Fichiers de configuration\n",
    "    2. Explication du code principal\n",
    "2. Simulation d'une image    \n",
    "3. Simulation d'une rampe\n",
    "    1. Simulation\n",
    "    2. Test des différents effets simulés\n",
    "4. Simulation d'un bruit CDS"
   ]
  },
  {
   "cell_type": "markdown",
   "metadata": {},
   "source": [
    "A réaliser au départ absolument :"
   ]
  },
  {
   "cell_type": "code",
   "execution_count": 1,
   "metadata": {},
   "outputs": [],
   "source": [
    "%reload_ext autoreload\n",
    "%autoreload 2"
   ]
  },
  {
   "cell_type": "code",
   "execution_count": 2,
   "metadata": {},
   "outputs": [],
   "source": [
    "%matplotlib notebook\n",
    "import os\n",
    "import numpy as np\n",
    "import matplotlib.pyplot as plt\n",
    "from ImSimpy.ImSimpy import ImageSimulator"
   ]
  },
  {
   "cell_type": "markdown",
   "metadata": {},
   "source": [
    "# 1. Fonctionnement"
   ]
  },
  {
   "cell_type": "markdown",
   "metadata": {},
   "source": [
    "### A. Fichiers de configuration"
   ]
  },
  {
   "cell_type": "markdown",
   "metadata": {},
   "source": [
    "Dans le dossier *ImSimpy/ImSimpy/configFiles* et *pyETC/pyETC/telescope_database* se trouve des fichiers *.hjson* qui sont des fichiers de configuration. Vous pourrez par la suite choisir de simuler une rampe ou un bruit CDS (cf. 3ème partie ou 4ème partie respectivement)."
   ]
  },
  {
   "cell_type": "markdown",
   "metadata": {},
   "source": [
    "Dans le dossier *ImSimpy/ImSimpy/configFiles* vous pouvez choisir de simuler des champs sombre (*Dark.hjson*), des champs plat (*Flat.hjson*), des images réalisées sur un temps très court pour mesurer le bruit de lecture (Texp=0s, *Bias.hjson*). Vous pouvez aussi décider de créer votre propre fichier .hjson en remplissant vous même le fichier *Make_one_image_is.hjson* (is pour image simulator). Dans ce fichier vous pouvez choisir le temps d'exposition, des paramètres de calcul, choisir des conditions locale comme la température ou l'élévation de la lune et des paramètres du téléscope comme le seeing ou des paramètres de caméras. Mais c'est surtout à l'intérieur de ce fichier que vous pouvez choisir d'observer le ciel et l'endroit d'observation.\n",
    "\n",
    "Le fichier pris par défault est un Dark :  [Dark.hjson](../ImSimpy/configFiles/Dark.hjson)\n",
    "\n",
    "*Remarque :* C'est à l'intérieur de ces fichiers que l'on choisit l'emplacement des fichiers .fits de configuration : carte des facteurs de conversion, carte des coefficients dépendant du temps du bruit thermique que produit les instruments devant le détecteur, carte des pixels morts et chauds dans le cas d'une simulation d'image simple et des facteurs de non linéarité pour une rampe. Un fichier fits pour le vignettage et pour l'offset. "
   ]
  },
  {
   "cell_type": "markdown",
   "metadata": {},
   "source": [
    "Dans le dossier *pyETC/pyETC/telescope_database* vous pouvez choisir le téléscope (associé à sa/ses caméra/s). Par exemple, pour simuler des images du détecteur Teledyne il faut choisir *colibri_teledyne.hjson* et pour simuler des images faites par la caméra de Sofradir choisissez *colibri.hjson*.\n",
    "\n",
    "Le téléscope choisi par défault est :  [colibri_teledyne.hjson](../../pyETC/pyETC/telescope_database/colibri_teledyne.hjson)\n",
    "\n",
    "*Remarque :* C'est à l'intérieur de ces fichiers que l'on doit placer certains coefficients importants comme la taille des pixels correspondant au détecteur, la largeur des bandes de pixels de référence ou les neufs coefficients de diaphonie interpixel."
   ]
  },
  {
   "cell_type": "markdown",
   "metadata": {},
   "source": [
    "Dans la cellule ci-dessous vous pouvez donc choisir votre type de mesure et votre téléscope en remplaçant `Dark.hjson` et `'colibri_teledyne'` par ce que vous souhaitez après avoir mis les coefficients correspondant à votre simulation."
   ]
  },
  {
   "cell_type": "code",
   "execution_count": null,
   "metadata": {
    "scrolled": true
   },
   "outputs": [],
   "source": [
    "Simulation=ImageSimulator(configFile=os.getenv('ImSimpy_DIR')+'/ImSimpy/configFiles/Test_des_differents_effets/01.Sources.hjson',\n",
    "                          name_telescope='colibri_teledyne')"
   ]
  },
  {
   "cell_type": "markdown",
   "metadata": {
    "collapsed": true
   },
   "source": [
    "L'objet est stocké dans la variable \"Simulation\". Cela peut être n'importe quoi d'autre.\n",
    "\n",
    "Si vous n'avez pas le répertoire standard, vous devez spécifier le chemin où se trouve le fichier de configuration. Voir l'exemple dans la partie 2."
   ]
  },
  {
   "cell_type": "markdown",
   "metadata": {},
   "source": [
    "### B. Explication du code principal"
   ]
  },
  {
   "cell_type": "markdown",
   "metadata": {},
   "source": [
    "*Remarque sur le fonctionnement du code* : Comme dit plus haut, c'est dans les fichiers de configuration que l'on choisit quel type d'image on veut simuler. C'est dans ces fichiers que l'on choisit la partie du ciel à oberserver, mais c'est aussi à l'aide de ces fichiers que l'on peut choisir de voir qu'une partie des instruments. Il suffit de mettre à ce moment là la bonne carte en entrée du bruit intrinsèque de l'instrument et d'afficher ou non les sources, les rayons cosmique et autres signal externe ou interne au détecteur ou au télescope.\n",
    "\n",
    "Le **coeur du code** se trouve dans le programme *ImSimpy* (qui se trouve dans *ImSimpy\\ImSimpy\\ImSimpy.py*) car les différents objets appelés (`Simulation`, `Test`, `AcquisitionBruitCDS`) font parti de la classe `ImageSimulator` définie au début de ce programme. \n",
    "\n",
    "Le code est divisé en trois parties :\n",
    "* La première contient des **fonctions de configurations** (dans l’ordre : l’initialisation, la recherche des paramètres dans les fichiers de configuration, la création des en-têtes fits puis la lecture et la génération des sources et des PSF (étalement)). Cette partie s’étend donc de la fonction `__init__` à la fonction `generateFinemaps`).\n",
    "* La deuxième contient toutes les fonctions qui **simulent** les différents effets (ajout des sources, non linéarité, discrétisation, …).\n",
    "* La dernière partie est constitué de deux fonctions, Simulate et Rampsimulation. Comme leur nom l’indique c’est elles qui appellent les différentes fonctions de configuration puis les différentes fonctions produisant les effets dans l’ordre convenu.\n",
    "\n"
   ]
  },
  {
   "cell_type": "markdown",
   "metadata": {},
   "source": [
    "# 2. Simulation d'une image"
   ]
  },
  {
   "cell_type": "markdown",
   "metadata": {},
   "source": [
    "L'image est enregistrée dans le dossier *ImSimpy/images* et vous devez placez le nom ci-dessous :"
   ]
  },
  {
   "cell_type": "code",
   "execution_count": null,
   "metadata": {},
   "outputs": [],
   "source": [
    "#File name\n",
    "Simulation.nom = 'test'\n",
    "\n",
    "#Nom du dossier dans lequel il sera enregistrée (le dossier doit être déjà existant)\n",
    "Simulation.output_dir= 'Simulation d_une image'\n",
    "\n",
    "#Read the configfile\n",
    "Simulation.acquisition='simple'\n",
    "Simulation.readConfigs()\n",
    "\n",
    "#execute it:\n",
    "Simulation.simulate()"
   ]
  },
  {
   "cell_type": "markdown",
   "metadata": {},
   "source": [
    "*NB: Parmi les fichiers fits que vous appliquez à l'image l'offset, le gain de conversion et la cosmétique sont appliqués aux pixels de références, tandis que le bruit thermique de l'instrument et le vignetting ne leur sont pas appliqués.*\n",
    "\n",
    "Pour récupérer le nom de l'image simulée :"
   ]
  },
  {
   "cell_type": "code",
   "execution_count": null,
   "metadata": {},
   "outputs": [],
   "source": [
    "fits_filename=os.getenv('ImSimpy_DIR')+'/ImSimpy/images/'+Simulation.information['output']\n",
    "print (fits_filename)"
   ]
  },
  {
   "cell_type": "markdown",
   "metadata": {},
   "source": [
    "# 3. Simulation d'une rampe"
   ]
  },
  {
   "cell_type": "markdown",
   "metadata": {},
   "source": [
    "### A. Simulation"
   ]
  },
  {
   "cell_type": "markdown",
   "metadata": {},
   "source": [
    "Pour simuler une rampe choisissez dans un premier temps un type de mesure et un téléscope (cf 1ère partie). Remplacez ci-dessous dans la variable `Simulation` le type et le téléscope choisis.\n",
    "\n",
    "Ensuite, dans la variable `bands` placez un tableau avec les bandes spectrales que vous souhaitez du système photométrique. Voici un tableau comportant toutes les bandes (par défault seule la bande J est choisie) : \n",
    "        \n",
    "        bands= ['g','r','i','z','y','J','H'] \n",
    "Dans la variable `output_dir` placez le nom du dossier dans lequel la rampe sera enregistrée dans le dossier *images* de ImSimpy (vous devez créer le dossier auparavant).\n",
    "\n",
    "![title](../ImSimpy/data/Drop-Read-Group_blueprint.png \"Schéma d'une rampe avec détecteur Teledyne\")\n",
    "\n",
    "Choisissez enfin les paramètres à l'aide du schéma ci-dessus et placez les dans les variables suivantes :\n",
    "   * nombre de reset : `nbReset`\n",
    "   * nombre de read : `nbRead`\n",
    "   * nombre de drop : `nbDrop`\n",
    "   * nombre de groupes : `nbGroup`"
   ]
  },
  {
   "cell_type": "markdown",
   "metadata": {},
   "source": [
    "*NB : La fonction diginoise est supprimée, son effet est déjà simulé grâce à la fonction * `intscale` * qui discretise, elle convertit les entiers en flotants. Le shotnoise non plus, la statistique est ajoutée au fur et à mesure sur chaque fonction. Et pour le moment les rayons cosmique et la persistance ne sont pas simulés car ils sont encore en recherche (il manque des mesures faites à l'aide de téléscope pour simuler les rayons cosmique).*"
   ]
  },
  {
   "cell_type": "code",
   "execution_count": 3,
   "metadata": {
    "scrolled": true
   },
   "outputs": [
    {
     "name": "stdout",
     "output_type": "stream",
     "text": [
      "Setting the random number generator seed: current time\n",
      "Read config file and execute ETC\n",
      "Building image: /H2RGSim/Reset.fits:\n",
      "\tGENERATE OBJECTS CATALOG\n",
      "Downloading objects from Vizier\n"
     ]
    },
    {
     "name": "stderr",
     "output_type": "stream",
     "text": [
      "WARNING: FITSFixedWarning: The WCS transformation has more axes (2) than the image it is associated with (0) [astropy.wcs.wcs]\n"
     ]
    },
    {
     "name": "stdout",
     "output_type": "stream",
     "text": [
      "\tGENERATE PSF\n",
      "PSF convolution\n",
      "done\n",
      "\tADD OBJECTS\n",
      "Total number of objects in the input catalog = 16237\n",
      "16237/16237 objects were placed on the detector\n",
      "\tApply Shot noise\n",
      "\tAdd dark current\n",
      "\tAdd Sky background\n",
      "\tAdd Readout Noise\n",
      "\tAdd Digitisation Noise\n",
      "\telectrons2adu\n",
      "\tApply Interpixel Crosstalk\n",
      "\tAdd offset\n",
      "\tDiscretise\n",
      "\tWrite outputs\n"
     ]
    },
    {
     "ename": "AttributeError",
     "evalue": "'ImageSimulator' object has no attribute 'nbImages'",
     "output_type": "error",
     "traceback": [
      "\u001b[1;31m---------------------------------------------------------------------------\u001b[0m",
      "\u001b[1;31mAttributeError\u001b[0m                            Traceback (most recent call last)",
      "\u001b[1;32m<ipython-input-3-5d64dd51d7e6>\u001b[0m in \u001b[0;36m<module>\u001b[1;34m()\u001b[0m\n\u001b[0;32m     31\u001b[0m \u001b[1;33m\u001b[0m\u001b[0m\n\u001b[0;32m     32\u001b[0m     \u001b[1;31m# Simulation\u001b[0m\u001b[1;33m\u001b[0m\u001b[1;33m\u001b[0m\u001b[0m\n\u001b[1;32m---> 33\u001b[1;33m     \u001b[0mSimulation\u001b[0m\u001b[1;33m.\u001b[0m\u001b[0mRampsimulation\u001b[0m\u001b[1;33m(\u001b[0m\u001b[1;34m'data'\u001b[0m\u001b[1;33m)\u001b[0m\u001b[1;33m\u001b[0m\u001b[0m\n\u001b[0m",
      "\u001b[1;32mc:\\users\\stagiaire\\documents\\projet git\\imsimpy\\ImSimpy\\ImSimpy.py\u001b[0m in \u001b[0;36mRampsimulation\u001b[1;34m(self, config_type)\u001b[0m\n\u001b[0;32m   1321\u001b[0m             \u001b[0mself\u001b[0m\u001b[1;33m.\u001b[0m\u001b[0mapplyReadoutNoise\u001b[0m\u001b[1;33m(\u001b[0m\u001b[1;33m)\u001b[0m\u001b[1;33m\u001b[0m\u001b[0m\n\u001b[0;32m   1322\u001b[0m         \"\"\"\n\u001b[1;32m-> 1323\u001b[1;33m         \u001b[1;32mfor\u001b[0m \u001b[0mi\u001b[0m \u001b[1;32min\u001b[0m \u001b[0mrange\u001b[0m\u001b[1;33m(\u001b[0m\u001b[1;36m1\u001b[0m\u001b[1;33m,\u001b[0m\u001b[0mself\u001b[0m\u001b[1;33m.\u001b[0m\u001b[0mnbImages\u001b[0m\u001b[1;33m+\u001b[0m\u001b[1;36m1\u001b[0m\u001b[1;33m)\u001b[0m\u001b[1;33m:\u001b[0m\u001b[1;33m\u001b[0m\u001b[0m\n\u001b[0m\u001b[0;32m   1324\u001b[0m \u001b[1;33m\u001b[0m\u001b[0m\n\u001b[0;32m   1325\u001b[0m             \u001b[0mtime\u001b[0m \u001b[1;33m=\u001b[0m \u001b[0mi\u001b[0m \u001b[1;33m*\u001b[0m \u001b[1;36m1.475\u001b[0m\u001b[1;33m\u001b[0m\u001b[0m\n",
      "\u001b[1;31mAttributeError\u001b[0m: 'ImageSimulator' object has no attribute 'nbImages'"
     ]
    }
   ],
   "source": [
    "from ImSimpy.ImSimpy import ImageSimulator\n",
    "\n",
    "Simulation=ImageSimulator(configFile=os.getenv('ImSimpy_DIR')+'/ImSimpy/configFiles/Make_one_image_is.hjson',\n",
    "                          name_telescope='colibri_teledyne')\n",
    "\n",
    "Simulation.bands = ['J']\n",
    "\n",
    "Simulation.output_dir='H2RGSim'\n",
    "\n",
    "Simulation.nbReset=5\n",
    "Simulation.nbRead=15\n",
    "Simulation.nbDrop=0\n",
    "Simulation.nbGroup=1\n",
    "\n",
    "Simulation.acquisition='ramp'\n",
    "Simulation.readConfigs()\n",
    "Simulation.config['verbose'] = 'False'\n",
    "\n",
    "for band in Simulation.bands:\n",
    "    \n",
    "    # Select appropriate channel for the selected filter band\n",
    "    if band in ['g','r','i']:\n",
    "        Simulation.config['channel']='DDRAGO-B'    \n",
    "    elif band in ['z','y']:\n",
    "        Simulation.config['channel']='DDRAGO-R'\n",
    "    elif band in['J','H']:\n",
    "        Simulation.config['channel']='CAGIRE'\n",
    "        \n",
    "    # Set filter band\n",
    "    Simulation.config['filter_band']=band\n",
    "    \n",
    "    # Simulation\n",
    "    Simulation.Rampsimulation('data')\n"
   ]
  },
  {
   "cell_type": "markdown",
   "metadata": {},
   "source": [
    "### B. Test des différents effets "
   ]
  },
  {
   "cell_type": "markdown",
   "metadata": {},
   "source": [
    "Si vous souhaitez tester le fonctionnement d'un des effets appliqué, le code ci-dessous créé ces images dans le dossier *ImSimpy\\ImSimpy\\images\\Test_des_différents_effets* :\n",
    "* Image 1 : Seulement les sources\n",
    "* Image 2 : Seulement le fond du ciel\n",
    "* Image 3 : Sources + fond du ciel\n",
    "* Image 4 : Seulement les rayons cosmiques\n",
    "* Image 5 : Sources + fond du ciel + rayons cosmiques\n",
    "* etc...\n",
    "\n",
    "L'offset n'est pas pris en compte car il empêche une bonne visibilité des effets. Le diginoise non plus car il n'a pas sa place ici, son effet est déjà simulé grâce à la fonction `intscale` qui converti les entiers en flotants.\n",
    "\n",
    "*NB : Pour le moment les rayons cosmique et la persistance ne sont pas simulés car c'est encore en recherche !*"
   ]
  },
  {
   "cell_type": "code",
   "execution_count": null,
   "metadata": {},
   "outputs": [],
   "source": [
    "# Première image, seulement les sources :\n",
    "Test=ImageSimulator(configFile=os.getenv('ImSimpy_DIR')+'\\\\ImSimpy\\\\configFiles\\\\Test_des_differents_effets\\\\01.Sources.hjson',\n",
    "                          name_telescope='colibri_teledyne')\n",
    "Test.output_dir='Test_des_differents_effets'\n",
    "Test.nom = '01.Sources'\n",
    "Simulation.acquisition='ramp'\n",
    "Test.readConfigs()\n",
    "Test.simulate()\n",
    "\n",
    "# Seulement le fond du ciel:\n",
    "Test=ImageSimulator(configFile=os.getenv('ImSimpy_DIR')+'\\\\ImSimpy\\\\configFiles\\\\Test_des_differents_effets\\\\02.Sky Background.hjson',\n",
    "                          name_telescope='colibri_teledyne')\n",
    "Test.output_dir='Test_des_differents_effets'\n",
    "Test.nom = '02.Sky Background'\n",
    "Test.readConfigs()\n",
    "Test.simulate()\n",
    "\n",
    "# Sources et fond du ciel :\n",
    "Test=ImageSimulator(configFile=os.getenv('ImSimpy_DIR')+'\\\\ImSimpy\\\\configFiles\\\\Test_des_differents_effets\\\\03.Sources+SkyB.hjson',\n",
    "                          name_telescope='colibri_teledyne')\n",
    "Test.output_dir='Test_des_differents_effets'\n",
    "Test.nom = '03.Sources+SkyB'\n",
    "Test.readConfigs()\n",
    "Test.simulate()\n",
    "\n",
    "# Seulement les rayons cosmiques :\n",
    "Test=ImageSimulator(configFile=os.getenv('ImSimpy_DIR')+'\\\\ImSimpy\\\\configFiles\\\\Test_des_differents_effets\\\\04.CosmicRay.hjson',\n",
    "                          name_telescope='colibri_teledyne')\n",
    "Test.output_dir='Test_des_differents_effets'\n",
    "Test.nom = '04.CosmicRay'\n",
    "Test.readConfigs()\n",
    "Test.simulate()\n",
    "\n",
    "# Sources+SkyB+CosmicR :\n",
    "Test=ImageSimulator(configFile=os.getenv('ImSimpy_DIR')+'\\\\ImSimpy\\\\configFiles\\\\Test_des_differents_effets\\\\05.Sources+SkyB+CosmicR.hjson',\n",
    "                          name_telescope='colibri_teledyne')\n",
    "Test.output_dir='Test_des_differents_effets'\n",
    "Test.nom = '05.Sources+SkyB+CosmicR'\n",
    "Test.readConfigs()\n",
    "Test.simulate()\n",
    "\n",
    "# Seulement la persistance :\n",
    "Test=ImageSimulator(configFile=os.getenv('ImSimpy_DIR')+'\\\\ImSimpy\\\\configFiles\\\\Test_des_differents_effets\\\\06.Persistance.hjson',\n",
    "                          name_telescope='colibri_teledyne')\n",
    "Test.output_dir='Test_des_differents_effets'\n",
    "Test.nom = '06.Persistance'\n",
    "Test.readConfigs()\n",
    "Test.simulate()\n",
    "\n",
    "# Sources+SkyB+CosmicR+Persis :\n",
    "Test=ImageSimulator(configFile=os.getenv('ImSimpy_DIR')+'\\\\ImSimpy\\\\configFiles\\\\Test_des_differents_effets\\\\07.Sources+SkyB+CosmicR+Persis.hjson',\n",
    "                          name_telescope='colibri_teledyne')\n",
    "Test.output_dir='Test_des_differents_effets'\n",
    "Test.nom = '07.Sources+SkyB+CosmicR+Persis'\n",
    "Test.readConfigs()\n",
    "Test.simulate()\n",
    "\n",
    "# Seulement le vignetting :\n",
    "Test=ImageSimulator(configFile=os.getenv('ImSimpy_DIR')+'\\\\ImSimpy\\\\configFiles\\\\Test_des_differents_effets\\\\08.Vignetting.hjson',\n",
    "                          name_telescope='colibri_teledyne')\n",
    "Test.output_dir='Test_des_differents_effets'\n",
    "Test.nom = '08.Vignetting'\n",
    "Test.readConfigs()\n",
    "Test.simulate()\n",
    "\n",
    "# Sources+SkyB+CosmicR+Persis+Vignet :\n",
    "Test=ImageSimulator(configFile=os.getenv('ImSimpy_DIR')+'\\\\ImSimpy\\\\configFiles\\\\Test_des_differents_effets\\\\09.Sources+SkyB+CosmicR+Persis+Vignet.hjson',\n",
    "                          name_telescope='colibri_teledyne')\n",
    "Test.output_dir='Test_des_differents_effets'\n",
    "Test.nom = '09.Sources+SkyB+CosmicR+Persis+Vignet'\n",
    "Test.readConfigs()\n",
    "Test.simulate()\n",
    "\n",
    "# Seulement le bruit thermique de l'instrument :\n",
    "Test=ImageSimulator(configFile=os.getenv('ImSimpy_DIR')+'\\\\ImSimpy\\\\configFiles\\\\Test_des_differents_effets\\\\10.Intrument intrinsic noise.hjson',\n",
    "                          name_telescope='colibri_teledyne')\n",
    "Test.output_dir='Test_des_differents_effets'\n",
    "Test.nom = '10.Intrument intrinsic noise'\n",
    "Test.readConfigs()\n",
    "Test.simulate()\n",
    "\n",
    "# Sources+SkyB+CosmicR+Persis+Vignet+InstrumNoise :\n",
    "Test=ImageSimulator(configFile=os.getenv('ImSimpy_DIR')+'\\\\ImSimpy\\\\configFiles\\\\Test_des_differents_effets\\\\11.Sources+SkyB+CosmicR+Persis+Vignet+InstrumNoise.hjson',\n",
    "                          name_telescope='colibri_teledyne')\n",
    "Test.output_dir='Test_des_differents_effets'\n",
    "Test.nom = '11.Sources+SkyB+CosmicR+Persis+Vignet+InstrumNoise'\n",
    "Test.readConfigs()\n",
    "Test.simulate()\n",
    "\n",
    "# Seulement le dark current :\n",
    "Test=ImageSimulator(configFile=os.getenv('ImSimpy_DIR')+'\\\\ImSimpy\\\\configFiles\\\\Test_des_differents_effets\\\\12.Dark Current.hjson',\n",
    "                          name_telescope='colibri_teledyne')\n",
    "Test.output_dir='Test_des_differents_effets'\n",
    "Test.nom = '12.Dark Current'\n",
    "Test.readConfigs()\n",
    "Test.simulate()\n",
    "\n",
    "# Sources+SkyB+CosmicR+Persis+Vignet+InstrumNoise+DC :\n",
    "Test=ImageSimulator(configFile=os.getenv('ImSimpy_DIR')+'\\\\ImSimpy\\\\configFiles\\\\Test_des_differents_effets\\\\13.Sources+SkyB+CosmicR+Persis+Vignet+InstrumNoise+DC.hjson',\n",
    "                          name_telescope='colibri_teledyne')\n",
    "Test.output_dir='Test_des_differents_effets'\n",
    "Test.nom = '13.Sources+SkyB+CosmicR+Persis+Vignet+InstrumNoise+DC'\n",
    "Test.readConfigs()\n",
    "Test.simulate()\n",
    "\n",
    "# Seulement la diaphonie interpixel :\n",
    "Test=ImageSimulator(configFile=os.getenv('ImSimpy_DIR')+'\\\\ImSimpy\\\\configFiles\\\\Test_des_differents_effets\\\\14.Interpixel CrossTalk.hjson',\n",
    "                          name_telescope='colibri_teledyne')\n",
    "Test.output_dir='Test_des_differents_effets'\n",
    "Test.nom = '14.Interpixel CrossTalk'\n",
    "Test.readConfigs()\n",
    "Test.simulate()\n",
    "\n",
    "# Sources+SkyB+CosmicR+Persis+Vignet+InstrumNoise+DC+ICT :\n",
    "Test=ImageSimulator(configFile=os.getenv('ImSimpy_DIR')+'\\\\ImSimpy\\\\configFiles\\\\Test_des_differents_effets\\\\15.Sources+SkyB+CosmicR+Persis+Vignet+InstrumNoise+DC+ICT.hjson',\n",
    "                          name_telescope='colibri_teledyne')\n",
    "Test.output_dir='Test_des_differents_effets'\n",
    "Test.nom = '15.Sources+SkyB+CosmicR+Persis+Vignet+InstrumNoise+DC+ICT'\n",
    "Test.readConfigs()\n",
    "Test.simulate()\n",
    "\n",
    "# Seulement la statistique, le shot noise :\n",
    "Test=ImageSimulator(configFile=os.getenv('ImSimpy_DIR')+'\\\\ImSimpy\\\\configFiles\\\\Test_des_differents_effets\\\\16.Shot Noise.hjson',\n",
    "                          name_telescope='colibri_teledyne')\n",
    "Test.output_dir='Test_des_differents_effets'\n",
    "Test.nom = '16.Shot Noise'\n",
    "Test.readConfigs()\n",
    "Test.simulate()\n",
    "\n",
    "# Sources+SkyB+CosmicR+Persis+Vignet+InstrumNoise+DC+ICT+ShotNoise :\n",
    "Test=ImageSimulator(configFile=os.getenv('ImSimpy_DIR')+'\\\\ImSimpy\\\\configFiles\\\\Test_des_differents_effets\\\\17.Sources+SkyB+CosmicR+Persis+Vignet+InstrumNoise+DC+ICT+ShotNoise.hjson',\n",
    "                          name_telescope='colibri_teledyne')\n",
    "Test.output_dir='Test_des_differents_effets'\n",
    "Test.nom = '17.Sources+SkyB+CosmicR+Persis+Vignet+InstrumNoise+DC+ICT+ShotNoise'\n",
    "Test.readConfigs()\n",
    "Test.simulate()\n",
    "\n",
    "# Seulement la cosmétique :\n",
    "Test=ImageSimulator(configFile=os.getenv('ImSimpy_DIR')+'\\\\ImSimpy\\\\configFiles\\\\Test_des_differents_effets\\\\18.Cosmetique.hjson',\n",
    "                          name_telescope='colibri_teledyne')\n",
    "Test.output_dir='Test_des_differents_effets'\n",
    "Test.nom = '18.Cosmetique'\n",
    "Test.readConfigs()\n",
    "Test.simulate()\n",
    "\n",
    "# Sources+SkyB+CosmicR+Persis+Vignet+InstrumNoise+DC+ICT+ShotNoise+Cosmetic :\n",
    "Test=ImageSimulator(configFile=os.getenv('ImSimpy_DIR')+'\\\\ImSimpy\\\\configFiles\\\\Test_des_differents_effets\\\\19.Sources+SkyB+CosmicR+Persis+Vignet+InstrumNoise+DC+ICT+ShotNoise+Cosmetic.hjson',\n",
    "                          name_telescope='colibri_teledyne')\n",
    "Test.output_dir='Test_des_differents_effets'\n",
    "Test.nom = '19.Sources+SkyB+CosmicR+Persis+Vignet+InstrumNoise+DC+ICT+ShotNoise+Cosmetic'\n",
    "Test.readConfigs()\n",
    "Test.simulate()\n",
    "\n",
    "# Seulement le bleeding :\n",
    "Test=ImageSimulator(configFile=os.getenv('ImSimpy_DIR')+'\\\\ImSimpy\\\\configFiles\\\\Test_des_differents_effets\\\\20.Bleeding.hjson',\n",
    "                          name_telescope='colibri_teledyne')\n",
    "Test.output_dir='Test_des_differents_effets'\n",
    "Test.nom = '20.Bleeding'\n",
    "Test.readConfigs()\n",
    "Test.simulate()\n",
    "\n",
    "# Sources+SkyB+CosmicR+Persis+Vignet+InstrumNoise+DC+ICT+ShotNoise+Cosmetic+Bleeding :\n",
    "Test=ImageSimulator(configFile=os.getenv('ImSimpy_DIR')+'\\\\ImSimpy\\\\configFiles\\\\Test_des_differents_effets\\\\21.Sources+SkyB+CosmicR+Persis+Vignet+InstrumNoise+DC+ICT+ShotNoise+Cosmetic+Bleeding.hjson',\n",
    "                          name_telescope='colibri_teledyne')\n",
    "Test.output_dir='Test_des_differents_effets'\n",
    "Test.nom = '21.Sources+SkyB+CosmicR+Persis+Vignet+InstrumNoise+DC+ICT+ShotNoise+Cosmetic+Bleeding'\n",
    "Test.readConfigs()\n",
    "Test.simulate()\n",
    "\n",
    "# Seulement le bruit de lecture :\n",
    "Test=ImageSimulator(configFile=os.getenv('ImSimpy_DIR')+'\\\\ImSimpy\\\\configFiles\\\\Test_des_differents_effets\\\\22.ReadOutNoise.hjson',\n",
    "                          name_telescope='colibri_teledyne')\n",
    "Test.output_dir='Test_des_differents_effets'\n",
    "Test.nom = '22.ReadOutNoise'\n",
    "Test.readConfigs()\n",
    "Test.simulate()\n",
    "\n",
    "# Sources+SkyB+CosmicR+Persis+Vignet+InstrumNoise+DC+ICT+ShotNoise+Cosmetic+Bleeding+RON :\n",
    "Test=ImageSimulator(configFile=os.getenv('ImSimpy_DIR')+'\\\\ImSimpy\\\\configFiles\\\\Test_des_differents_effets\\\\23.Sources+SkyB+CosmicR+Persis+Vignet+InstrumNoise+DC+ICT+ShotNoise+Cosmetic+Bleeding+RON.hjson',\n",
    "                          name_telescope='colibri_teledyne')\n",
    "Test.output_dir='Test_des_differents_effets'\n",
    "Test.nom = '23.Sources+SkyB+CosmicR+Persis+Vignet+InstrumNoise+DC+ICT+ShotNoise+Cosmetic+Bleeding+RON'\n",
    "Test.readConfigs()\n",
    "Test.simulate()\n",
    "\n",
    "# Seulement le gain de conversion :\n",
    "Test=ImageSimulator(configFile=os.getenv('ImSimpy_DIR')+'\\\\ImSimpy\\\\configFiles\\\\Test_des_differents_effets\\\\24.Convert.hjson',\n",
    "                          name_telescope='colibri_teledyne')\n",
    "Test.output_dir='Test_des_differents_effets'\n",
    "Test.nom = '24.Convert'\n",
    "Test.readConfigs()\n",
    "Test.simulate()\n",
    "\n",
    "# Sources+SkyB+CosmicR+Persis+Vignet+InstrumNoise+DC+ICT+ShotNoise+Cosmetic+Bleeding+RON+Convert :\n",
    "Test=ImageSimulator(configFile=os.getenv('ImSimpy_DIR')+'\\\\ImSimpy\\\\configFiles\\\\Test_des_differents_effets\\\\25.Sources+SkyB+CosmicR+Persis+Vignet+InstrumNoise+DC+ICT+ShotNoise+Cosmetic+Bleeding+RON+Convert.hjson',\n",
    "                          name_telescope='colibri_teledyne')\n",
    "Test.output_dir='Test_des_differents_effets'\n",
    "Test.nom = '25.Sources+SkyB+CosmicR+Persis+Vignet+InstrumNoise+DC+ICT+ShotNoise+Cosmetic+Bleeding+RON+Convert'\n",
    "Test.readConfigs()\n",
    "Test.simulate()"
   ]
  },
  {
   "cell_type": "markdown",
   "metadata": {},
   "source": [
    "# 4. Bruit CDS"
   ]
  },
  {
   "cell_type": "markdown",
   "metadata": {},
   "source": [
    "L'acquisition de bruit CDS (Correlated double sampling ou échantillonnage double corrélé) est un mode où on peut mettre en avant le bruit. Comme dans la figure ci-dessous, quatre images sont acquises suivant deux rampes et une dernière image est créée où seulement le bruit apparaît. \n",
    "\n",
    "![title](../ImSimpy/data/SchémaCDS.png)\n",
    "Pour simuler cette dernière on soustrait deux images consécutives pour en trouver l’écart-type. Or, avec des CMOS cet écart-type n’est pas représentatif de l’erreur, le gain et l’offset varient par pixel. C’est pourquoi, on compare 4 images, on calcul le l’écart-type deux à deux. Un coefficient de racine de 2 apparaît : \n",
    "\n",
    "![title](../ImSimpy/data/I2-I1.jpg)\n",
    "![title](../ImSimpy/data/Racine2.jpg)\n",
    "\n",
    "\n",
    "Cette dernière image subira aussi des traitements des pixels de références expliqués plus loins.\n",
    "\n"
   ]
  },
  {
   "cell_type": "markdown",
   "metadata": {},
   "source": [
    "De la même manière que dans la partie trois, choisissez le type de téléscope, le type d'image à simuler, la fenêtre atmosphérique et le dossier dans lequel votre acquisition sera enregistrée."
   ]
  },
  {
   "cell_type": "code",
   "execution_count": null,
   "metadata": {},
   "outputs": [],
   "source": [
    "from ImSimpy.ImSimpy import ImageSimulator\n",
    "\n",
    "AcquisitionBruitCDS=ImageSimulator(configFile=os.getenv('ImSimpy_DIR')+'/ImSimpy/configFiles/Dark.hjson',\n",
    "                          name_telescope='colibri_teledyne')\n",
    "\n",
    "AcquisitionBruitCDS.bands = ['J']\n",
    "\n",
    "AcquisitionBruitCDS.output_dir='AcquisitionBruitCDS'\n",
    "\n",
    "# Acquisition CDS (ne plus rien modifier) :\n",
    "AcquisitionBruitCDS.nbReset=5\n",
    "AcquisitionBruitCDS.nbRead=2\n",
    "AcquisitionBruitCDS.nbDrop=0\n",
    "AcquisitionBruitCDS.nbGroup=1\n",
    "\n",
    "AcquisitionBruitCDS.acquisition='CDS'\n",
    "AcquisitionBruitCDS.readConfigs()\n",
    "AcquisitionBruitCDS.config['verbose'] = 'False'\n",
    "\n",
    "for band in AcquisitionBruitCDS.bands:\n",
    "    \n",
    "    # Select appropriate channel for the selected filter band\n",
    "    if band in ['g','r','i']:\n",
    "        AcquisitionBruitCDS.config['channel']='DDRAGO-B'    \n",
    "    elif band in ['z','y']:\n",
    "        AcquisitionBruitCDS.config['channel']='DDRAGO-R'\n",
    "    elif band in['J','H']:\n",
    "        AcquisitionBruitCDS.config['channel']='CAGIRE'\n",
    "        \n",
    "    # Set filter band\n",
    "    AcquisitionBruitCDS.config['filter_band']=band\n",
    "    \n",
    "    # Simulation\n",
    "    AcquisitionBruitCDS.number=1\n",
    "    AcquisitionBruitCDS.Rampsimulation('data')\n",
    "    AcquisitionBruitCDS.number=2\n",
    "    AcquisitionBruitCDS.Rampsimulation('data')"
   ]
  }
 ],
 "metadata": {
  "kernelspec": {
   "display_name": "Python 3",
   "language": "python",
   "name": "python3"
  },
  "language_info": {
   "codemirror_mode": {
    "name": "ipython",
    "version": 3
   },
   "file_extension": ".py",
   "mimetype": "text/x-python",
   "name": "python",
   "nbconvert_exporter": "python",
   "pygments_lexer": "ipython3",
   "version": "3.6.6"
  }
 },
 "nbformat": 4,
 "nbformat_minor": 1
}
